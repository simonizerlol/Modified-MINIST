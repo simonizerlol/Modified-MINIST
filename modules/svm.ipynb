{
 "cells": [
  {
   "cell_type": "code",
   "execution_count": 53,
   "metadata": {},
   "outputs": [],
   "source": [
    "# Kaggle competition\n",
    "# Group: TBA\n",
    "# method: Support Vector Machine\n",
    "# preprocess getdata\n",
    "from getdata import CrossValidation, GetData\n",
    "# for writing csv files\n",
    "import pandas as pd\n",
    "# for the base linear SVM learner\n",
    "from sklearn.svm import LinearSVC\n",
    "import sklearn.metrics\n",
    "from sklearn.metrics import classification_report, confusion_matrix\n",
    "from sklearn.model_selection import GridSearchCV"
   ]
  },
  {
   "cell_type": "code",
   "execution_count": 35,
   "metadata": {},
   "outputs": [],
   "source": [
    "class ImageGetter:\n",
    "    def __init__(\n",
    "        self,\n",
    "        dataset_modifier='_int',\n",
    "        as_image=False,\n",
    "        transform=False,\n",
    "    ):\n",
    "        self.dataset_modifier = dataset_modifier\n",
    "        self.as_image = as_image\n",
    "        self.transform = transform\n",
    "        \n",
    "    def kaggle(self):\n",
    "        data_getter = GetData()\n",
    "\n",
    "        train_x, train_y = data_getter.load_training(\n",
    "            dataset_modifier=self.dataset_modifier,\n",
    "            as_image=self.as_image,\n",
    "            transform=self.transform,\n",
    "        )\n",
    "\n",
    "        test_x = data_getter.load_test(\n",
    "            as_image=self.as_image,\n",
    "            transform=self.transform\n",
    "        )\n",
    "\n",
    "        train_x = train_x.reshape((-1, 64, 64, 1))\n",
    "        train_y = train_y.flatten()\n",
    "        valid_x = test_x.reshape((-1, 64, 64, 1))\n",
    "\n",
    "        print('dataset loaded successful for kaggle')\n",
    "\n",
    "        return train_x, train_y, valid_x\n",
    "    \n",
    "    def process(self):\n",
    "        cv = CrossValidation(\n",
    "            dataset_modifier=self.dataset_modifier,\n",
    "            transform=self.transform,\n",
    "            as_image=True,\n",
    "        )\n",
    "        train_x, train_y, valid_x, valid_y = cv.get_set()\n",
    "        print('data loaded successfully')\n",
    "\n",
    "        train_x = train_x.reshape((-1, 64, 64, 1))\n",
    "        valid_x = valid_x.reshape((-1, 64, 64, 1))\n",
    "\n",
    "        return train_x, train_y, valid_x, valid_y"
   ]
  },
  {
   "cell_type": "code",
   "execution_count": 36,
   "metadata": {},
   "outputs": [
    {
     "name": "stdout",
     "output_type": "stream",
     "text": [
      "beginning manual transformations for training set...\n",
      "finished manual transformation for training set\n",
      "beginning cross validation separation...\n",
      "finished cross validation separation\n",
      "data loaded successfully\n"
     ]
    }
   ],
   "source": [
    "# internal testing\n",
    "train_x, train_y, valid_x, valid_y = ImageGetter(\n",
    "        dataset_modifier='_int',\n",
    "        transform=True,\n",
    "    ).process()"
   ]
  },
  {
   "cell_type": "code",
   "execution_count": 38,
   "metadata": {},
   "outputs": [
    {
     "name": "stdout",
     "output_type": "stream",
     "text": [
      "beginning manual transformations for training set...\n",
      "finished manual transformation for training set\n",
      "beginning manual transformations for test set...\n",
      "finished manual transformation for test set\n",
      "dataset loaded successful for kaggle\n"
     ]
    }
   ],
   "source": [
    "# kaggle\n",
    "k_train_x, k_train_y, k_valid_x = ImageGetter(\n",
    "        as_image=True,\n",
    "        transform=True,\n",
    "    ).kaggle()"
   ]
  },
  {
   "cell_type": "code",
   "execution_count": 49,
   "metadata": {},
   "outputs": [
    {
     "name": "stdout",
     "output_type": "stream",
     "text": [
      "begin linearSVC()\n"
     ]
    },
    {
     "data": {
      "text/plain": [
       "LinearSVC(C=1.0, class_weight=None, dual=True, fit_intercept=True,\n",
       "     intercept_scaling=1, loss='squared_hinge', max_iter=1000,\n",
       "     multi_class='ovr', penalty='l2', random_state=None, tol=0.0001,\n",
       "     verbose=0)"
      ]
     },
     "execution_count": 49,
     "metadata": {},
     "output_type": "execute_result"
    }
   ],
   "source": [
    "# internal test\n",
    "TARGET_SHAPE = (64,64)\n",
    "print('begin linearSVC()')\n",
    "svc_model = LinearSVC()\n",
    "svc_model.fit(train_x.reshape(-1, TARGET_SHAPE[0]*TARGET_SHAPE[1]), train_y) #fit it to default"
   ]
  },
  {
   "cell_type": "code",
   "execution_count": 110,
   "metadata": {},
   "outputs": [
    {
     "name": "stdout",
     "output_type": "stream",
     "text": [
      "internal svc model score:  0.455875\n"
     ]
    }
   ],
   "source": [
    "print('internal svc model score: ', svc_model.score(train_x.reshape(-1, TARGET_SHAPE[0]*TARGET_SHAPE[1]), train_y))"
   ]
  },
  {
   "cell_type": "markdown",
   "metadata": {},
   "source": [
    "# Predictions and Evaluations"
   ]
  },
  {
   "cell_type": "code",
   "execution_count": 54,
   "metadata": {},
   "outputs": [
    {
     "name": "stdout",
     "output_type": "stream",
     "text": [
      "writing data to file...\n"
     ]
    }
   ],
   "source": [
    "predictions = svc_model.predict(valid_x.reshape(-1, TARGET_SHAPE[0]*TARGET_SHAPE[1]))\n",
    "\n",
    "# write to the csv file for submission\n",
    "print('writing data to file...')\n",
    "dt = pd.DataFrame(data=predictions)\n",
    "dt.columns = [\"Label\"]\n",
    "dt = dt.astype(int)\n",
    "dt.to_csv('../output/internal_svm_test.csv', mode='w',index=True, index_label='Id')"
   ]
  },
  {
   "cell_type": "code",
   "execution_count": 108,
   "metadata": {},
   "outputs": [
    {
     "name": "stdout",
     "output_type": "stream",
     "text": [
      "svc f1_score:  0.3454\n"
     ]
    }
   ],
   "source": [
    "print('svc f1_score: ',sklearn.metrics.f1_score(valid_y, predictions, average='micro'))"
   ]
  },
  {
   "cell_type": "code",
   "execution_count": 75,
   "metadata": {},
   "outputs": [
    {
     "name": "stdout",
     "output_type": "stream",
     "text": [
      "[[ 80   5   7 702  20   4   0  20 133  39]\n",
      " [  3 758   2 196  17   6  11  11  83  31]\n",
      " [  0  14  40 776  28   0   2  22  75  28]\n",
      " [  0   7   6 925   8   2   0  11  27  11]\n",
      " [  2  48   4 321 363   8   3   8 134 115]\n",
      " [ 11  18   5 486  26 117   5  20 171  61]\n",
      " [  5  26   9 600  79  22  89   3 113  51]\n",
      " [  2  36  13 358  16   2   1 363  55 162]\n",
      " [  1  26   1 643  22   3   3   6 258  53]\n",
      " [  1  34   2 242  87   0   1  40  75 461]]\n"
     ]
    }
   ],
   "source": [
    "print(confusion_matrix(valid_y, predictions))"
   ]
  },
  {
   "cell_type": "code",
   "execution_count": 77,
   "metadata": {},
   "outputs": [
    {
     "name": "stdout",
     "output_type": "stream",
     "text": [
      "             precision    recall  f1-score   support\n",
      "\n",
      "          0       0.76      0.08      0.14      1010\n",
      "          1       0.78      0.68      0.73      1118\n",
      "          2       0.45      0.04      0.07       985\n",
      "          3       0.18      0.93      0.30       997\n",
      "          4       0.55      0.36      0.43      1006\n",
      "          5       0.71      0.13      0.22       920\n",
      "          6       0.77      0.09      0.16       997\n",
      "          7       0.72      0.36      0.48      1008\n",
      "          8       0.23      0.25      0.24      1016\n",
      "          9       0.46      0.49      0.47       943\n",
      "\n",
      "avg / total       0.56      0.35      0.33     10000\n",
      "\n"
     ]
    }
   ],
   "source": [
    "print(classification_report(valid_y, predictions))"
   ]
  },
  {
   "cell_type": "code",
   "execution_count": 55,
   "metadata": {},
   "outputs": [
    {
     "name": "stdout",
     "output_type": "stream",
     "text": [
      "begin linearSVC()\n"
     ]
    },
    {
     "data": {
      "text/plain": [
       "LinearSVC(C=1.0, class_weight=None, dual=True, fit_intercept=True,\n",
       "     intercept_scaling=1, loss='squared_hinge', max_iter=1000,\n",
       "     multi_class='ovr', penalty='l2', random_state=None, tol=0.0001,\n",
       "     verbose=0)"
      ]
     },
     "execution_count": 55,
     "metadata": {},
     "output_type": "execute_result"
    }
   ],
   "source": [
    "# kaggle \n",
    "TARGET_SHAPE = (64,64)\n",
    "print('begin linearSVC()')\n",
    "svc_model = LinearSVC()\n",
    "svc_model.fit(k_train_x.reshape(-1, TARGET_SHAPE[0]*TARGET_SHAPE[1]), k_train_y) #fit it to default"
   ]
  },
  {
   "cell_type": "code",
   "execution_count": 109,
   "metadata": {},
   "outputs": [
    {
     "name": "stdout",
     "output_type": "stream",
     "text": [
      "kaggle svc model score:  0.45764\n"
     ]
    }
   ],
   "source": [
    "print('kaggle svc model score: ', svc_model.score(k_train_x.reshape(-1, TARGET_SHAPE[0]*TARGET_SHAPE[1]), k_train_y))"
   ]
  },
  {
   "cell_type": "code",
   "execution_count": 61,
   "metadata": {},
   "outputs": [
    {
     "name": "stdout",
     "output_type": "stream",
     "text": [
      "writing data to file...\n"
     ]
    }
   ],
   "source": [
    "# Predictions and Evaluations for kaggle\n",
    "k_predictions = svc_model.predict(k_valid_x.reshape(-1, TARGET_SHAPE[0]*TARGET_SHAPE[1]))\n",
    "\n",
    "# write to the csv file for submission\n",
    "print('writing data to file...')\n",
    "dt = pd.DataFrame(data=k_predictions)\n",
    "dt.columns = [\"Label\"]\n",
    "dt = dt.astype(int)\n",
    "dt.to_csv('../output/go_svm_test.csv', mode='w',index=True, index_label='Id')"
   ]
  },
  {
   "cell_type": "code",
   "execution_count": null,
   "metadata": {},
   "outputs": [],
   "source": [
    "#print(sklearn.metrics.f1_score(k_valid_y, k_predictions, average='micro'))"
   ]
  },
  {
   "cell_type": "markdown",
   "metadata": {},
   "source": [
    "## Random Classifer"
   ]
  },
  {
   "cell_type": "code",
   "execution_count": 105,
   "metadata": {},
   "outputs": [
    {
     "name": "stdout",
     "output_type": "stream",
     "text": [
      "Random Class f1_score : 0.1048\n",
      "writing data to file...\n"
     ]
    }
   ],
   "source": [
    "import numpy as np\n",
    "classes = np.unique(train_y)\n",
    "randPreds = np.random.choice(classes, len(valid_y))\n",
    "print('Random Class f1_score :', sklearn.metrics.f1_score(valid_y, randPreds, average='micro'))\n",
    "\n",
    "# write to the csv file for submission\n",
    "print('writing data to file...')\n",
    "dt = pd.DataFrame(data=randPreds)\n",
    "dt.columns = [\"Label\"]\n",
    "dt = dt.astype(int)\n",
    "dt.to_csv('../output/random_test.csv', mode='w',index=True, index_label='Id')"
   ]
  },
  {
   "cell_type": "markdown",
   "metadata": {},
   "source": [
    "## Majority-class classifier"
   ]
  },
  {
   "cell_type": "code",
   "execution_count": 106,
   "metadata": {},
   "outputs": [
    {
     "name": "stdout",
     "output_type": "stream",
     "text": [
      "Majority class f1_score : 0.0985\n",
      "writing data to file...\n"
     ]
    }
   ],
   "source": [
    "# most common class in training set\n",
    "majClass = np.argmax(train_y)\n",
    "majPreds = np.multiply(np.ones(len(valid_y)), majClass)\n",
    "print('Majority class f1_score :', sklearn.metrics.f1_score(valid_y, majPreds, average='micro')) \n",
    "\n",
    "# write to the csv file for submission\n",
    "print('writing data to file...')\n",
    "dt = pd.DataFrame(data=majPreds)\n",
    "dt.columns = [\"Label\"]\n",
    "dt = dt.astype(int)\n",
    "dt.to_csv('../output/major_test.csv', mode='w',index=True, index_label='Id')"
   ]
  },
  {
   "cell_type": "markdown",
   "metadata": {},
   "source": [
    "## grindsearch \n",
    "to find the right right parameters (like what C values to use)  by creating a 'grid' of parameters and trying out all the possible combinations and see what works best. \n",
    "\n",
    "implemented with Scikit-learn built in functionality - GridSearchCV.\n",
    "GridSearchCV takes a dictionary that describes the parameters that should be tried and a model to train. The grid of parameters is defined as a dictionary, where the keys are the parameters and the values are the settings to be tested."
   ]
  },
  {
   "cell_type": "code",
   "execution_count": 85,
   "metadata": {},
   "outputs": [],
   "source": [
    "# Create a dictionary called param_grid and fill out some parameters for C\n",
    "param_grid = {'C': [0.01, 0.1, 1, 10, 100, 1000]}"
   ]
  },
  {
   "cell_type": "code",
   "execution_count": 86,
   "metadata": {},
   "outputs": [],
   "source": [
    "# Create a GridSearchCV object and fit it to the training data.\n",
    "#grid = GridSearchCV(LinearSVC(),param_grid,refit=True,verbose=2)\n",
    "grid = GridSearchCV(LinearSVC(max_iter=20),param_grid,verbose=2) #verbose=2, n_jobs=2, ,cv=10"
   ]
  },
  {
   "cell_type": "code",
   "execution_count": 89,
   "metadata": {},
   "outputs": [
    {
     "name": "stdout",
     "output_type": "stream",
     "text": [
      "Fitting 3 folds for each of 6 candidates, totalling 18 fits\n",
      "[CV] C=0.01 ..........................................................\n",
      "[CV] ........................................... C=0.01, total=  23.8s\n",
      "[CV] C=0.01 ..........................................................\n"
     ]
    },
    {
     "name": "stderr",
     "output_type": "stream",
     "text": [
      "[Parallel(n_jobs=1)]: Done   1 out of   1 | elapsed:   24.6s remaining:    0.0s\n"
     ]
    },
    {
     "name": "stdout",
     "output_type": "stream",
     "text": [
      "[CV] ........................................... C=0.01, total=  23.5s\n",
      "[CV] C=0.01 ..........................................................\n",
      "[CV] ........................................... C=0.01, total=  22.8s\n",
      "[CV] C=0.1 ...........................................................\n",
      "[CV] ............................................ C=0.1, total=  23.8s\n",
      "[CV] C=0.1 ...........................................................\n",
      "[CV] ............................................ C=0.1, total=  22.7s\n",
      "[CV] C=0.1 ...........................................................\n",
      "[CV] ............................................ C=0.1, total=  23.2s\n",
      "[CV] C=1 .............................................................\n",
      "[CV] .............................................. C=1, total=  23.9s\n",
      "[CV] C=1 .............................................................\n",
      "[CV] .............................................. C=1, total=  23.0s\n",
      "[CV] C=1 .............................................................\n",
      "[CV] .............................................. C=1, total=  23.2s\n",
      "[CV] C=10 ............................................................\n",
      "[CV] ............................................. C=10, total=  23.6s\n",
      "[CV] C=10 ............................................................\n",
      "[CV] ............................................. C=10, total=  22.9s\n",
      "[CV] C=10 ............................................................\n",
      "[CV] ............................................. C=10, total=  21.9s\n",
      "[CV] C=100 ...........................................................\n",
      "[CV] ............................................ C=100, total=  23.7s\n",
      "[CV] C=100 ...........................................................\n",
      "[CV] ............................................ C=100, total=  23.1s\n",
      "[CV] C=100 ...........................................................\n",
      "[CV] ............................................ C=100, total=  23.3s\n",
      "[CV] C=1000 ..........................................................\n",
      "[CV] ........................................... C=1000, total=  22.2s\n",
      "[CV] C=1000 ..........................................................\n",
      "[CV] ........................................... C=1000, total=  22.7s\n",
      "[CV] C=1000 ..........................................................\n",
      "[CV] ........................................... C=1000, total=  23.0s\n"
     ]
    },
    {
     "name": "stderr",
     "output_type": "stream",
     "text": [
      "[Parallel(n_jobs=1)]: Done  18 out of  18 | elapsed:  7.2min finished\n"
     ]
    },
    {
     "data": {
      "text/plain": [
       "GridSearchCV(cv=None, error_score='raise',\n",
       "       estimator=LinearSVC(C=1.0, class_weight=None, dual=True, fit_intercept=True,\n",
       "     intercept_scaling=1, loss='squared_hinge', max_iter=20,\n",
       "     multi_class='ovr', penalty='l2', random_state=None, tol=0.0001,\n",
       "     verbose=0),\n",
       "       fit_params=None, iid=True, n_jobs=1,\n",
       "       param_grid={'C': [0.01, 0.1, 1, 10, 100, 1000]},\n",
       "       pre_dispatch='2*n_jobs', refit=True, return_train_score='warn',\n",
       "       scoring=None, verbose=2)"
      ]
     },
     "execution_count": 89,
     "metadata": {},
     "output_type": "execute_result"
    }
   ],
   "source": [
    "grid.fit(train_x.reshape(-1, TARGET_SHAPE[0]*TARGET_SHAPE[1]),train_y)"
   ]
  },
  {
   "cell_type": "code",
   "execution_count": 90,
   "metadata": {},
   "outputs": [
    {
     "data": {
      "text/plain": [
       "{'C': 10}"
      ]
     },
     "execution_count": 90,
     "metadata": {},
     "output_type": "execute_result"
    }
   ],
   "source": [
    "grid.best_params_"
   ]
  },
  {
   "cell_type": "code",
   "execution_count": 92,
   "metadata": {},
   "outputs": [],
   "source": [
    "grid_predictions = grid.predict(valid_x.reshape(-1, TARGET_SHAPE[0]*TARGET_SHAPE[1]))"
   ]
  },
  {
   "cell_type": "code",
   "execution_count": 102,
   "metadata": {},
   "outputs": [
    {
     "name": "stdout",
     "output_type": "stream",
     "text": [
      "writing data to file...\n",
      "[[622   4  61   1 152  74  27  24   4  41]\n",
      " [ 56 712  47   4 203  38  14  13  11  20]\n",
      " [ 17  18 553   4 237  61  13  39  15  28]\n",
      " [ 45  15 368 104 168 156  12  24  46  59]\n",
      " [ 16  41  44   2 767  39  32  11   7  47]\n",
      " [ 36  11  71   7 125 573  29  22  19  27]\n",
      " [ 21  42  96   3 200 102 516   1   2  14]\n",
      " [ 48  26 107   6 181  85   1 484  10  60]\n",
      " [ 60  47 143   4 420 196  18   4  56  68]\n",
      " [ 13  15  36   1 416  66   1  54   8 333]]\n"
     ]
    }
   ],
   "source": [
    "print('writing data to file...')\n",
    "dt = pd.DataFrame(data=grid_predictions)\n",
    "dt.columns = [\"Label\"]\n",
    "dt = dt.astype(int)\n",
    "dt.to_csv('../output/internal_svm_test_with_gridsearch.csv', mode='w',index=True, index_label='Id')\n",
    "\n",
    "print(confusion_matrix(valid_y,grid_predictions))"
   ]
  },
  {
   "cell_type": "code",
   "execution_count": 103,
   "metadata": {},
   "outputs": [
    {
     "name": "stdout",
     "output_type": "stream",
     "text": [
      "             precision    recall  f1-score   support\n",
      "\n",
      "          0       0.67      0.62      0.64      1010\n",
      "          1       0.76      0.64      0.69      1118\n",
      "          2       0.36      0.56      0.44       985\n",
      "          3       0.76      0.10      0.18       997\n",
      "          4       0.27      0.76      0.40      1006\n",
      "          5       0.41      0.62      0.50       920\n",
      "          6       0.78      0.52      0.62       997\n",
      "          7       0.72      0.48      0.57      1008\n",
      "          8       0.31      0.06      0.09      1016\n",
      "          9       0.48      0.35      0.41       943\n",
      "\n",
      "avg / total       0.56      0.47      0.46     10000\n",
      "\n"
     ]
    }
   ],
   "source": [
    "print(classification_report(valid_y, grid_predictions))"
   ]
  },
  {
   "cell_type": "code",
   "execution_count": 95,
   "metadata": {},
   "outputs": [],
   "source": [
    "# Create a GridSearchCV object and fit it to the training data.\n",
    "#grid = GridSearchCV(LinearSVC(),param_grid,refit=True,verbose=2)\n",
    "k_grid = GridSearchCV(LinearSVC(max_iter=20),param_grid,verbose=2) #verbose=2, n_jobs=2, ,cv=10"
   ]
  },
  {
   "cell_type": "code",
   "execution_count": 96,
   "metadata": {},
   "outputs": [
    {
     "name": "stdout",
     "output_type": "stream",
     "text": [
      "Fitting 3 folds for each of 6 candidates, totalling 18 fits\n",
      "[CV] C=0.01 ..........................................................\n",
      "[CV] ........................................... C=0.01, total=  31.5s\n",
      "[CV] C=0.01 ..........................................................\n"
     ]
    },
    {
     "name": "stderr",
     "output_type": "stream",
     "text": [
      "[Parallel(n_jobs=1)]: Done   1 out of   1 | elapsed:   32.5s remaining:    0.0s\n"
     ]
    },
    {
     "name": "stdout",
     "output_type": "stream",
     "text": [
      "[CV] ........................................... C=0.01, total=  32.8s\n",
      "[CV] C=0.01 ..........................................................\n",
      "[CV] ........................................... C=0.01, total=  30.1s\n",
      "[CV] C=0.1 ...........................................................\n",
      "[CV] ............................................ C=0.1, total=  31.3s\n",
      "[CV] C=0.1 ...........................................................\n",
      "[CV] ............................................ C=0.1, total=  30.2s\n",
      "[CV] C=0.1 ...........................................................\n",
      "[CV] ............................................ C=0.1, total=  28.8s\n",
      "[CV] C=1 .............................................................\n",
      "[CV] .............................................. C=1, total=  29.5s\n",
      "[CV] C=1 .............................................................\n",
      "[CV] .............................................. C=1, total=  28.3s\n",
      "[CV] C=1 .............................................................\n",
      "[CV] .............................................. C=1, total=  27.8s\n",
      "[CV] C=10 ............................................................\n",
      "[CV] ............................................. C=10, total=  28.7s\n",
      "[CV] C=10 ............................................................\n",
      "[CV] ............................................. C=10, total=  30.4s\n",
      "[CV] C=10 ............................................................\n",
      "[CV] ............................................. C=10, total=  30.2s\n",
      "[CV] C=100 ...........................................................\n",
      "[CV] ............................................ C=100, total=  30.6s\n",
      "[CV] C=100 ...........................................................\n",
      "[CV] ............................................ C=100, total=  28.3s\n",
      "[CV] C=100 ...........................................................\n",
      "[CV] ............................................ C=100, total=  27.4s\n",
      "[CV] C=1000 ..........................................................\n",
      "[CV] ........................................... C=1000, total=  31.3s\n",
      "[CV] C=1000 ..........................................................\n",
      "[CV] ........................................... C=1000, total=  30.4s\n",
      "[CV] C=1000 ..........................................................\n",
      "[CV] ........................................... C=1000, total=  30.3s\n"
     ]
    },
    {
     "name": "stderr",
     "output_type": "stream",
     "text": [
      "[Parallel(n_jobs=1)]: Done  18 out of  18 | elapsed:  9.3min finished\n"
     ]
    },
    {
     "data": {
      "text/plain": [
       "GridSearchCV(cv=None, error_score='raise',\n",
       "       estimator=LinearSVC(C=1.0, class_weight=None, dual=True, fit_intercept=True,\n",
       "     intercept_scaling=1, loss='squared_hinge', max_iter=20,\n",
       "     multi_class='ovr', penalty='l2', random_state=None, tol=0.0001,\n",
       "     verbose=0),\n",
       "       fit_params=None, iid=True, n_jobs=1,\n",
       "       param_grid={'C': [0.01, 0.1, 1, 10, 100, 1000]},\n",
       "       pre_dispatch='2*n_jobs', refit=True, return_train_score='warn',\n",
       "       scoring=None, verbose=2)"
      ]
     },
     "execution_count": 96,
     "metadata": {},
     "output_type": "execute_result"
    }
   ],
   "source": [
    "k_grid.fit(k_train_x.reshape(-1, TARGET_SHAPE[0]*TARGET_SHAPE[1]),k_train_y)"
   ]
  },
  {
   "cell_type": "code",
   "execution_count": 97,
   "metadata": {},
   "outputs": [
    {
     "data": {
      "text/plain": [
       "{'C': 0.1}"
      ]
     },
     "execution_count": 97,
     "metadata": {},
     "output_type": "execute_result"
    }
   ],
   "source": [
    "k_grid.best_params_"
   ]
  },
  {
   "cell_type": "code",
   "execution_count": 98,
   "metadata": {},
   "outputs": [],
   "source": [
    "k_grid_predictions = k_grid.predict(k_valid_x.reshape(-1, TARGET_SHAPE[0]*TARGET_SHAPE[1]))"
   ]
  },
  {
   "cell_type": "code",
   "execution_count": 101,
   "metadata": {},
   "outputs": [
    {
     "name": "stdout",
     "output_type": "stream",
     "text": [
      "writing data to file...\n"
     ]
    }
   ],
   "source": [
    "print('writing data to file...')\n",
    "dt = pd.DataFrame(data=k_grid_predictions)\n",
    "dt.columns = [\"Label\"]\n",
    "dt = dt.astype(int)\n",
    "dt.to_csv('../output/go_svm_test_with_gridsearch.csv', mode='w',index=True, index_label='Id')\n"
   ]
  },
  {
   "cell_type": "code",
   "execution_count": null,
   "metadata": {},
   "outputs": [],
   "source": [
    "# Results:\n",
    "# random_test.csv scored 9.766%\n",
    "# major_test.csv scored 9.266%\n",
    "# internal_svm_test.csv scored 10.7%\n",
    "# go_svm_test.csv scored 41%\n",
    "\n",
    "# After gridsearch with the best parameter for C:\n",
    "# internal_svm_test_with_gridsearch.csv still scored 9.066%\n",
    "# go_svm_test_with_gridsearch.csv scored 41.8%\n"
   ]
  },
  {
   "cell_type": "code",
   "execution_count": null,
   "metadata": {},
   "outputs": [],
   "source": [
    "# f1 scores results:\n",
    "# Random Class f1_score : 0.1048\n",
    "# Majority class f1_score : 0.0985\n",
    "# svc f1_score:  0.3454\n",
    "\n",
    "# among the internal testing vs kaggle go time\n",
    "# internal svc model score:  0.455875\n",
    "# kaggle svc model score: 0.45764"
   ]
  },
  {
   "cell_type": "code",
   "execution_count": null,
   "metadata": {},
   "outputs": [],
   "source": []
  }
 ],
 "metadata": {
  "kernelspec": {
   "display_name": "Python 3",
   "language": "python",
   "name": "python3"
  },
  "language_info": {
   "codemirror_mode": {
    "name": "ipython",
    "version": 3
   },
   "file_extension": ".py",
   "mimetype": "text/x-python",
   "name": "python",
   "nbconvert_exporter": "python",
   "pygments_lexer": "ipython3",
   "version": "3.6.2"
  }
 },
 "nbformat": 4,
 "nbformat_minor": 2
}
